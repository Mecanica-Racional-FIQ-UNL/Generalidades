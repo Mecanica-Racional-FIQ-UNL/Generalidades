{
 "cells": [
  {
   "cell_type": "markdown",
   "id": "shared-moment",
   "metadata": {},
   "source": [
    "# Ejemplo: proyectil moviéndose en el vacío"
   ]
  },
  {
   "cell_type": "markdown",
   "id": "biological-hollow",
   "metadata": {},
   "source": [
    "Un cañón ubicado en el suelo dispara un proyectil con velocidad inicial $v_0$ en un ángulo con respecto a la horizontal de $\\theta_0$. Encuentre las expresiones para la evolución temporal del proyectil y su trayectoria. ¿Cúal es el ángulo de disparo óptimo si queremos que el proyectil llegue lo más lejos posible?"
   ]
  },
  {
   "cell_type": "code",
   "execution_count": 1,
   "id": "needed-warehouse",
   "metadata": {},
   "outputs": [
    {
     "data": {
      "text/html": [
       "<script>\n",
       "code_show=true; \n",
       "function code_toggle() {\n",
       " if (code_show){\n",
       " $('div.input').hide();\n",
       " } else {\n",
       " $('div.input').show();\n",
       " }\n",
       " code_show = !code_show\n",
       "} \n",
       "$( document ).ready(code_toggle);\n",
       "</script>\n",
       "(Para ver/ocultar el código de esta notebook presione <a href=\"javascript:code_toggle()\">aqui</a>)."
      ],
      "text/plain": [
       "<IPython.core.display.HTML object>"
      ]
     },
     "execution_count": 1,
     "metadata": {},
     "output_type": "execute_result"
    }
   ],
   "source": [
    "from IPython.display import HTML\n",
    "HTML('''<script>\n",
    "code_show=true; \n",
    "function code_toggle() {\n",
    " if (code_show){\n",
    " $('div.input').hide();\n",
    " } else {\n",
    " $('div.input').show();\n",
    " }\n",
    " code_show = !code_show\n",
    "} \n",
    "$( document ).ready(code_toggle);\n",
    "</script>\n",
    "(Para ver/ocultar el código de esta notebook presione <a href=\"javascript:code_toggle()\">aqui</a>).''')"
   ]
  },
  {
   "cell_type": "markdown",
   "id": "conceptual-endorsement",
   "metadata": {},
   "source": [
    "**Gráfica de la trayectoria en función de $v_0$ (en m/s) y $\\theta_0$ (en ${}^{\\circ}$):**"
   ]
  },
  {
   "cell_type": "code",
   "execution_count": 18,
   "id": "generous-marketplace",
   "metadata": {},
   "outputs": [
    {
     "data": {
      "application/vnd.jupyter.widget-view+json": {
       "model_id": "570f2ffb3d8b49efb213fe0996f7743b",
       "version_major": 2,
       "version_minor": 0
      },
      "text/plain": [
       "interactive(children=(FloatSlider(value=3.0, description='v0', max=5.5, min=0.5, step=0.5), FloatSlider(value=…"
      ]
     },
     "metadata": {},
     "output_type": "display_data"
    }
   ],
   "source": [
    "from __future__ import print_function\n",
    "\n",
    "import matplotlib as mpl\n",
    "mpl.rc('font', family = 'serif')\n",
    "\n",
    "# Plot\n",
    "import matplotlib.pyplot as plt\n",
    "import numpy as np\n",
    "plt.rcParams.update({'font.size': 12})\n",
    "\n",
    "# widgets\n",
    "from ipywidgets import interact, interactive, fixed, interact_manual\n",
    "import ipywidgets as widgets\n",
    "\n",
    "g=9.8\n",
    "v0pm=5.5\n",
    "xmaxp=v0pm**2/g\n",
    "ymaxp=v0pm**2*1/(2*g)\n",
    "\n",
    "def trayectoria(v0,theta0):\n",
    "    # figure\n",
    "    plt.figure(1, figsize = (10, 6))\n",
    "    # variables\n",
    "    theta0rad=np.pi/180*theta0\n",
    "    xmax=v0**2/g\n",
    "    x = np.linspace(0, xmax, num=50)\n",
    "    # function\n",
    "    y = -g/(2*(v0**2)*(np.cos(theta0rad))**2)*(x**2)+np.tan(theta0rad)*x\n",
    "    # plot and set axis\n",
    "    plt.plot(x, y)\n",
    "    plt.xlim(0, xmaxp)\n",
    "    plt.ylim(0, ymaxp)\n",
    "    plt.title(r\"Trayectoria en función de $v_0$ y $\\theta_0$\")\n",
    "    plt.xlabel('x (m)')\n",
    "    plt.ylabel('y (m)')\n",
    "    plt.show()\n",
    "\n",
    "# show widget\n",
    "interactive_plot = interactive(trayectoria, v0=(0.5, v0pm, 0.5), theta0=(0.,90., 5))\n",
    "output = interactive_plot.children[-1]\n",
    "# output.layout.height = '350px'\n",
    "interactive_plot"
   ]
  },
  {
   "cell_type": "markdown",
   "id": "necessary-civilization",
   "metadata": {},
   "source": [
    "**Gráfica del alcance en función de $v_0$ (en m/s) y $\\theta_0$ (en  ${}^{\\circ}$):**"
   ]
  },
  {
   "cell_type": "code",
   "execution_count": 17,
   "id": "statutory-textbook",
   "metadata": {},
   "outputs": [
    {
     "data": {
      "application/vnd.jupyter.widget-view+json": {
       "model_id": "b4f899ed2d044077b57fd95a78fa4a1b",
       "version_major": 2,
       "version_minor": 0
      },
      "text/plain": [
       "interactive(children=(FloatSlider(value=3.0, description='v0', max=5.5, min=0.5, step=0.5), Output()), _dom_cl…"
      ]
     },
     "metadata": {},
     "output_type": "display_data"
    }
   ],
   "source": [
    "# Gráfica del alcance en función de $v_0$ (en m/s) y $\\theta_0$ (en  ${}^{\\circ}$):\n",
    "v0pm=5.5\n",
    "xmaxp=v0pm**2/g\n",
    "\n",
    "def alcance(v0):\n",
    "    # figure\n",
    "    plt.figure(1, figsize = (10, 6))\n",
    "    # variables\n",
    "    theta0=np.linspace(0, 90, num=90)\n",
    "    theta0rad=np.pi/180*theta0\n",
    "    # function\n",
    "    xa=v0**2/g*np.cos(theta0rad)*(np.sin(theta0rad)+np.sqrt(np.sin(theta0rad)**2))\n",
    "    # plot and set axis\n",
    "    plt.plot(theta0, xa)\n",
    "    thetamrad=np.arcsin(1/np.sqrt(2))\n",
    "    thetam=thetamrad*180/np.pi\n",
    "    xm=v0**2/g\n",
    "    plt.annotate(r'$x_m$ en $\\theta_0$='+'{:3.1f}'.format(thetam)+r'${}^{\\circ}$',\n",
    "                 xy=(thetam,xm),\n",
    "                 xytext=(thetam,xm+xmaxp*0.05), \n",
    "                 arrowprops=dict(arrowstyle=\"->\"),\n",
    "                 horizontalalignment='center')\n",
    "    plt.xlim(0, 90)\n",
    "    plt.ylim(0, xmaxp*1.1)\n",
    "    plt.title(r'Alcance en función de $v_0$ y $\\theta_0$')\n",
    "    plt.xlabel(r'$\\theta_0 ({}^{\\circ})$')\n",
    "    plt.ylabel('Alcance (m)')\n",
    "    plt.show()\n",
    "\n",
    "interactive_plot = interactive(alcance, v0=(0.5, v0pm, 0.5))\n",
    "output = interactive_plot.children[-1]\n",
    "# output.layout.height = '350px'\n",
    "interactive_plot"
   ]
  }
 ],
 "metadata": {
  "kernelspec": {
   "display_name": "Python 3",
   "language": "python",
   "name": "python3"
  },
  "language_info": {
   "codemirror_mode": {
    "name": "ipython",
    "version": 3
   },
   "file_extension": ".py",
   "mimetype": "text/x-python",
   "name": "python",
   "nbconvert_exporter": "python",
   "pygments_lexer": "ipython3",
   "version": "3.6.12"
  }
 },
 "nbformat": 4,
 "nbformat_minor": 5
}
