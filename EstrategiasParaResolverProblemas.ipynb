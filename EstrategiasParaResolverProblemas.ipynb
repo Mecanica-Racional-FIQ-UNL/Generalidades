{
 "cells": [
  {
   "cell_type": "markdown",
   "id": "nonprofit-balloon",
   "metadata": {},
   "source": [
    "# Estrategias para resolver problemas\n",
    "\n",
    "**\"Es bastante seguro decir que la verdadera prueba de comprender algo es la capacidad de resolver problemas sobre eso. Leer sobre un tema es un paso necesario en el proceso de aprendizaje, pero de ninguna manera es uno suficiente. El paso más importante es dedicar el mayor tiempo posible a resolver problemas (que es inevitablemente una tarea activa) más allá del tiempo que se dedica a la lectura (que es generalmente una tarea más pasiva).\"**\n",
    "\n",
    "A continuación se presentan algunos puntos a tener en cuenta a la hora de resolver problemas (no sólo de mecánica racional).\n",
    "\n",
    "**1.** *Dibujar un diagrama, si corresponde.*\n",
    "En el diagrama, asegurarse de etiquetar claramente todas las cantidades relevantes (longitudes, masas, fuerzas, etc.). Los diagramas son absolutamente indispensables en algunos problemas, y pueden transformar un problema aparentemente complicado en uno casi trivial. \n",
    "\n",
    "**2.** *Escribir lo que se sabe y lo que se está tratando de encontrar.*\n",
    "Es útil escribir (posiblemente junto al diagrama) la información disponible y las incógnitas del problema. La información puede ser las variables conocidas, pero también consideraciones como \"despreciar el rozamiento\", leyes de conservación, ecuaciones, etc.. Esto puede dejar en evidencia, incluso antes de empezar el problema, que *algo* está faltando: por ejemplo, si hay tres incógnitas pero sólo se dispone de dos ecuaciones, entonces debe haber un hecho o ecuación que falta, y que incluso podría estar en el enunciado del problema (suponiendo que el problema tiene solución).\n",
    "\n",
    "**3.** *Resolver las ecuaciones simbólicamente.*\n",
    "Cuando en un problema se pida una solución numérica, es muy útil resolverlo de manera simbólica y reemplazar con los valores numéricos luego de obtener la expresión final. Hay muchas ventajas en usar letras:\n",
    "\n",
    "- Es más rápido: es mucho más fácil multiplicar una g por una l escribiéndolas una junto a otra que multiplicando los números en la calculadora. \n",
    "\n",
    "- Es menos probable que cometa un error: hay muchas posibilidades de equivocarse al ir \"llevando\" los números de un lado al otro, tanto al escribirlos en la calculadora, escribir el resultado en el papel, trasladar el resultado durante el desarrollo, etc.. \n",
    "\n",
    "- El problema se resuelve de vez por todas: para cualquier conjunto de valores de las variables, sólo se reemplazan en la expresión final. \n",
    "\n",
    "- Se puede ver la dependencia general de la solución para diferentes valores: por ejemplo, si el resultado es independiente de alguna variable, o estudiar cómo varía la solución ante cambios en las variables, estudiar casos límite.\n",
    "\n",
    "Habiendo dicho todo esto, debe tenerse en cuenta que ocasionalmente resulta demasiado engorroso usar letras, y se deben resolver algunos pasos de manera numérica. \n",
    "\n",
    "**4.** *Considerar las unidades y/o dimensiones. En caso de obtener una respuesta numérica, también el orden magnitud.* Comprobar las unidades al final de un cálculo indica si la respuesta tiene alguna oportunidad de ser la correcta, si buscaba una frecuencia y obtiene un resultado en kg *algo* salió mal. Lo mismo ocurre si obtiene un resultado numérico que está a algunos órdenes de magnitud del esperado.\n",
    "\n",
    "**5.** *Estudiar casos límite o especiales.* \n",
    "Estudiar límites de una solución permite muchas veces obtener un resultado de un problema más simple (del que posiblemente sepa la solución) y es útil para verificar si la solución tiene sentido.\n",
    "\n",
    "**6.** *Graficar la solución.* Una gráfica puede ser más fácil de interpretar que una ecuación."
   ]
  }
 ],
 "metadata": {
  "kernelspec": {
   "display_name": "Python 3",
   "language": "python",
   "name": "python3"
  },
  "language_info": {
   "codemirror_mode": {
    "name": "ipython",
    "version": 3
   },
   "file_extension": ".py",
   "mimetype": "text/x-python",
   "name": "python",
   "nbconvert_exporter": "python",
   "pygments_lexer": "ipython3",
   "version": "3.6.12"
  }
 },
 "nbformat": 4,
 "nbformat_minor": 5
}
