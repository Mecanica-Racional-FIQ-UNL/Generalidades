{
 "cells": [
  {
   "cell_type": "markdown",
   "id": "german-expense",
   "metadata": {},
   "source": [
    "# Introducción\n",
    "\n",
    "## Sobre el formato de las notas y donde encontrarlas\n",
    "\n",
    "Las guías de problemas, algunas soluciones y notas en general estarán disponibles en la siguiente cuenta de   [GitHub](https://github.com/):\n",
    "\n",
    "**[Mecanica-Racional-FIQ-UNL](https://github.com/Mecanica-Racional-FIQ-UNL?tab=repositories)**\n",
    "\n",
    "El contenido se carga en \"carpetas\" llamadas *repositorios*, que en general tendrán nombres del tipo \"Guia_XX\", donde XX se debe reemplazar por 1, 2, etc. \n",
    "\n",
    "En general, el contenido estará en forma de *[Jupyter notebooks](https://jupyter.org/)*, que tienen formato \".ipynb\". \n",
    "Para abrir las notebooks hay varias opciones:\n",
    "\n",
    "- Usando [nbviewer](https://nbviewer.jupyter.org) y buscando \"Mecanica-Racional-FIQ-UNL\", o simplemente siguiendo este [enlace](https://nbviewer.jupyter.org/github/Mecanica-Racional-FIQ-UNL/). \n",
    "  Pro: es rápido. Contra: suele tardar en actualizar el contenido que se sube al repositorio.\n",
    "\n",
    "- Usando [binder](https://mybinder.org/) y buscando \"Mecanica-Racional-FIQ-UNL/Guia_XX\", donde XX se debe reemplazar por 1, 2, etc. Pro: permite modificar las notebooks (¡pero no se guardarán los cambios!). Contra: tarda un poco en cargar.\n",
    "\n",
    "- Usando [Google Colab](https://colab.research.google.com/), yendo a \"Archivo\", \"Subir notebook\", \"GitHub\" y buscando \"Mecanica-Racional-FIQ-UNL\", donde se pueden elegir los distintos repositorios. Pro: permite modificar las notebooks y guardar una copia, además es rápido. Contra: requiere una cuenta de Google.\n",
    "\n",
    "- Descargando e instalando Jupyter y guardando una copia de la notebook. Es conveniente instalar [Anaconda](https://www.anaconda.com/products/individual), que instala Python, Jupyter y los paquetes necesarios para que (en principio) todo funcione. Pro: se guarda una copia local del contenido, que se puede modificar a gusto. Contra: requiere instalar programas.\n",
    "\n",
    "Las guías de problemas se encuentran también disponibles en formato pdf en cada repositorio. "
   ]
  }
 ],
 "metadata": {
  "kernelspec": {
   "display_name": "Python 3",
   "language": "python",
   "name": "python3"
  },
  "language_info": {
   "codemirror_mode": {
    "name": "ipython",
    "version": 3
   },
   "file_extension": ".py",
   "mimetype": "text/x-python",
   "name": "python",
   "nbconvert_exporter": "python",
   "pygments_lexer": "ipython3",
   "version": "3.6.12"
  }
 },
 "nbformat": 4,
 "nbformat_minor": 5
}
