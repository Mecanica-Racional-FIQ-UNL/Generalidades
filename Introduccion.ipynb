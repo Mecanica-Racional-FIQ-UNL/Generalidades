{
 "cells": [
  {
   "cell_type": "markdown",
   "id": "german-expense",
   "metadata": {},
   "source": [
    "# Introducción\n",
    "\n",
    "## Sobre el formato de las notas y donde encontrarlas\n",
    "\n",
    "Las guías de problemas, algunas soluciones y notas en general estarán disponibles en la siguiente cuenta de   [GitHub](https://github.com/):\n",
    "\n",
    "**[Mecanica-Racional-FIQ-UNL](https://github.com/Mecanica-Racional-FIQ-UNL?tab=repositories)**\n",
    "\n",
    "El contenido se carga en \"carpetas\" llamadas *repositorios*, que en general tendrán nombres del tipo \"Guia_XX\", donde XX se debe reemplazar por 1, 2, etc. \n",
    "\n",
    "En general, el contenido estará en forma de *[Jupyter notebooks](https://jupyter.org/)*, que tienen formato \".ipynb\". \n",
    "Para abrir las notebooks hay varias opciones:\n",
    "\n",
    "- Usando [nbviewer](https://nbviewer.jupyter.org) y buscando \"Mecanica-Racional-FIQ-UNL\", o simplemente siguiendo este [enlace](https://nbviewer.jupyter.org/github/Mecanica-Racional-FIQ-UNL/). \n",
    "  Pro: es rápido. Contra: suele tardar en actualizar el contenido que se sube al repositorio.\n",
    "\n",
    "- Usando [binder](https://mybinder.org/) y buscando \"Mecanica-Racional-FIQ-UNL/Guia_XX\", donde XX se debe reemplazar por 1, 2, etc. Pro: permite modificar las notebooks (¡pero no se guardarán los cambios!). Contra: tarda un poco en cargar.\n",
    "\n",
    "- Usando [Google Colab](https://colab.research.google.com/), yendo a \"Archivo\", \"Subir notebook\", \"GitHub\" y buscando \"Mecanica-Racional-FIQ-UNL\", donde se pueden elegir los distintos repositorios. Pro: permite modificar las notebooks y guardar una copia, además es rápido. Contra: requiere una cuenta de Google.\n",
    "\n",
    "- Descargando e instalando Jupyter y guardando una copia de la notebook. Es conveniente instalar [Anaconda](https://www.anaconda.com/products/individual), que instala Python, Jupyter y los paquetes necesarios para que (en principio) todo funcione. Pro: se guarda una copia local del contenido, que se puede modificar a gusto. Contra: requiere instalar programas.\n",
    "\n",
    "Las guías de problemas se encuentran también disponibles en formato pdf en cada repositorio. "
   ]
  },
  {
   "cell_type": "markdown",
   "id": "designing-quantum",
   "metadata": {},
   "source": [
    "Las notebooks permiten incorporar texto (HTML, $LaTeX$) y código (Julia, Python, R) en un mismo lugar; y se visualizan en un navegador web. Esto nos permite por ejemplo desarrollar ecuaciones, \n",
    "\n",
    "\\begin{equation}\n",
    "y=mx+b ,\n",
    "\\end{equation}\n",
    "\n",
    "y realizar el siguiente tipo de gráficas dinámicas de las  soluciones en un mismo apunte."
   ]
  },
  {
   "cell_type": "code",
   "execution_count": 16,
   "id": "dense-excuse",
   "metadata": {},
   "outputs": [
    {
     "data": {
      "application/vnd.jupyter.widget-view+json": {
       "model_id": "fdda261e94194ffe82e115eae47ec04d",
       "version_major": 2,
       "version_minor": 0
      },
      "text/plain": [
       "interactive(children=(IntSlider(value=0, description='b', max=10, min=-10), FloatSlider(value=0.0, description…"
      ]
     },
     "metadata": {},
     "output_type": "display_data"
    }
   ],
   "source": [
    "from __future__ import print_function\n",
    "\n",
    "# Plot\n",
    "import matplotlib.pyplot as plt\n",
    "import numpy as np\n",
    "plt.rcParams.update({'font.size': 12})\n",
    "\n",
    "# widgets\n",
    "from ipywidgets import interact, interactive, fixed, interact_manual\n",
    "import ipywidgets as widgets\n",
    "\n",
    "xmax=10\n",
    "mmax=2\n",
    "bmax=10\n",
    "ymax=mmax*xmax+bmax\n",
    "mstep=0.5\n",
    "bstep=1\n",
    "\n",
    "def grafica(b,m):\n",
    "    # figure\n",
    "    plt.figure(1, figsize = (10, 6))\n",
    "    # variables\n",
    "    x = np.linspace(-xmax, xmax, num=50)\n",
    "    # function\n",
    "    y = m*x+b\n",
    "    # plot and set axis\n",
    "    plt.plot(x, y)\n",
    "    plt.xlim(-xmax, xmax)\n",
    "    plt.ylim(-ymax, ymax)\n",
    "    plt.title(r\"$y=mx+b$\")\n",
    "    plt.xlabel('x')\n",
    "    plt.ylabel('y')\n",
    "    plt.show()\n",
    "\n",
    "# show widget\n",
    "interactive_plot = interactive(grafica, m=(-mmax, mmax, mstep), b=(-bmax,bmax, bstep))\n",
    "output = interactive_plot.children[-1]\n",
    "# output.layout.height = '350px'\n",
    "interactive_plot"
   ]
  }
 ],
 "metadata": {
  "kernelspec": {
   "display_name": "Python 3",
   "language": "python",
   "name": "python3"
  },
  "language_info": {
   "codemirror_mode": {
    "name": "ipython",
    "version": 3
   },
   "file_extension": ".py",
   "mimetype": "text/x-python",
   "name": "python",
   "nbconvert_exporter": "python",
   "pygments_lexer": "ipython3",
   "version": "3.6.12"
  }
 },
 "nbformat": 4,
 "nbformat_minor": 5
}
